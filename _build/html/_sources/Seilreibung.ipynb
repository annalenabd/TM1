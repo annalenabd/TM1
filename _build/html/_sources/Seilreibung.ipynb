{
 "cells": [
  {
   "cell_type": "markdown",
   "id": "58f758ee-de80-4e86-beda-32b782629548",
   "metadata": {
    "user_expressions": []
   },
   "source": [
    "# Seilreibung\n",
    "\n",
    "Legt man ein Seil um einen halbwegs runden Körper (nicht drehbar) können\n",
    "die Seilkräfte unterschiedlich groß sein ohne, dass das Seil rutscht.\n",
    "Das Seil wird durch die Seilkräfte gegen den Pfosten gepresst. Dadurch\n",
    "hat man Reibungskräfte gegen die Bewegungsrichtung.\n",
    "\n",
    "```{image} ../TM1/images/seil.png\n",
    "```\n",
    "  \n",
    ":::{dropdown} $S_{1} = S_{2} \\bullet e^{\\mu \\bullet \\alpha}$\n",
    ":open:\n",
    "$S_{1}$ - größere Kraft\n",
    "\n",
    "$S_{2}$ - kleinere Kraft\n",
    "\n",
    "e - Eulersche Zahl\n",
    "\n",
    "$\\mu\\ $- Reibwert\n",
    "\n",
    "$\\alpha\\ $- Umschlingungswinkel im Bogenmaß\n",
    "\n",
    ":::\n"
   ]
  },
  {
   "cell_type": "code",
   "execution_count": null,
   "id": "5b804284-102e-4ac9-9a45-bb1dd87d4c68",
   "metadata": {},
   "outputs": [],
   "source": []
  }
 ],
 "metadata": {
  "kernelspec": {
   "display_name": "Python 3 (ipykernel)",
   "language": "python",
   "name": "python3"
  },
  "language_info": {
   "codemirror_mode": {
    "name": "ipython",
    "version": 3
   },
   "file_extension": ".py",
   "mimetype": "text/x-python",
   "name": "python",
   "nbconvert_exporter": "python",
   "pygments_lexer": "ipython3",
   "version": "3.10.4"
  }
 },
 "nbformat": 4,
 "nbformat_minor": 5
}
