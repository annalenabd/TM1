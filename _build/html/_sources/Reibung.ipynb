{
 "cells": [
  {
   "cell_type": "markdown",
   "id": "b14e9e59-68f5-4cd7-af7d-c84cf07ff2f4",
   "metadata": {
    "user_expressions": []
   },
   "source": [
    "# Reibung\n",
    "\n",
    "## Kochrezept\n",
    "\n",
    "1.  Freischneiden \n",
    "(oft mehrfach, oft am besten jedes Bauteil einzeln,\n",
    "d.h um das Bauteil herum. **Nie mitten durchs massive Bauteil.**)\n",
    "\n",
    "2.  Antragen der von der Umgebung auf das Bauteil wirkenden Kräfte und Momente:\n",
    "\n",
    "    Im Reibkontakt:\n",
    "\n",
    "    - Normalkraft F{sub}`μ` (senkrecht)\n",
    "\n",
    "    - Reibkraft F{sub}`R` (tangential)\n",
    "\n",
    "3.  Kräfte- und Momentenbilanzen aufstellen und auswerten.\n",
    "\n",
    " Evtl. ist damit das Problem schon gelöst und F{sub}`μ` und\n",
    " F{sub}`R` bestimmbar.\n",
    "\n",
    ":::{admonition} Problem noch nicht gelöst?\n",
    ":class: info\n",
    "An der Rutschgrenze (**und nur da!**) gilt: $F_{R} = \\mu \\bullet F_{N}$\n",
    ":::"
   ]
  },
  {
   "cell_type": "markdown",
   "id": "4a6b80dd-cca3-4a7a-84e2-07028e8058b1",
   "metadata": {
    "user_expressions": []
   },
   "source": [
    "## Erklärvideo"
   ]
  },
  {
   "cell_type": "code",
   "execution_count": null,
   "id": "a020f351-37bb-4152-be4b-59ab1bc1aa04",
   "metadata": {},
   "outputs": [],
   "source": []
  }
 ],
 "metadata": {
  "kernelspec": {
   "display_name": "Python 3 (ipykernel)",
   "language": "python",
   "name": "python3"
  },
  "language_info": {
   "codemirror_mode": {
    "name": "ipython",
    "version": 3
   },
   "file_extension": ".py",
   "mimetype": "text/x-python",
   "name": "python",
   "nbconvert_exporter": "python",
   "pygments_lexer": "ipython3",
   "version": "3.10.4"
  }
 },
 "nbformat": 4,
 "nbformat_minor": 5
}
