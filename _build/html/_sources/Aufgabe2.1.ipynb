{
 "cells": [
  {
   "cell_type": "markdown",
   "id": "e55cb931-bd48-4a1a-a338-2b3d67ec3edb",
   "metadata": {
    "tags": [],
    "user_expressions": []
   },
   "source": [
    " # Aufgabe 1\n",
    "\n",
    ":::{admonition} Aufgabe\n",
    ":class: tip\n",
    "Berechnen sie die Lagereaktionen\n",
    ":::\n",
    "    \n",
    "```{image} ../TM1/images/2.1.png\n",
    ":width: 350px\n",
    "``` \n",
    "\n",
    "$Gegeben:$\n",
    "\n",
    "$\\alpha\\ =30°$\n",
    "\n",
    "$F=200N$\n",
    "\n",
    ":::{dropdown} Lösung\n",
    "$A_x=0$\n",
    "\n",
    "$A_y=  \\frac{1+√2}{6} \\ F=80,47 N$\n",
    "\n",
    "$B_x= -\\frac{1}{2} \\ F= -100 N$\n",
    "\n",
    "$B_y=\\frac{√2}{2} \\ F-\\frac{1+√2}{6} \\ F=60,95 N$\n",
    ":::"
   ]
  },
  {
   "cell_type": "markdown",
   "id": "ec4f3e8e-8799-4660-bb22-2b67b2d15495",
   "metadata": {
    "user_expressions": []
   },
   "source": []
  },
  {
   "cell_type": "code",
   "execution_count": null,
   "id": "21eb7494-8297-4f95-ae41-08257901781e",
   "metadata": {},
   "outputs": [],
   "source": []
  }
 ],
 "metadata": {
  "kernelspec": {
   "display_name": "Python 3 (ipykernel)",
   "language": "python",
   "name": "python3"
  },
  "language_info": {
   "codemirror_mode": {
    "name": "ipython",
    "version": 3
   },
   "file_extension": ".py",
   "mimetype": "text/x-python",
   "name": "python",
   "nbconvert_exporter": "python",
   "pygments_lexer": "ipython3",
   "version": "3.10.4"
  }
 },
 "nbformat": 4,
 "nbformat_minor": 5
}
