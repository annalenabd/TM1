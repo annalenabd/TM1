{
 "cells": [
  {
   "cell_type": "markdown",
   "id": "41ef2550-556b-4d2b-9b9f-37cd98f748a5",
   "metadata": {
    "tags": [],
    "user_expressions": []
   },
   "source": [
    "# Aufgabe 2\n",
    "\n",
    ":::{admonition} Aufgabe\n",
    ":class: tip\n",
    "Eine Plattform soll an 2 Balken aufgehängt werden und eine Kiste tragen. Wie schwer müssen die Gewichte m1 und m2 mindestens sein?\n",
    ":::\n",
    "\n",
    "```{image} ../TM1/images/9.5V1.png\n",
    ":width: 350px\n",
    "```\n",
    "\n",
    "$Gegeben: $\n",
    "\n",
    "$m_3=100kg  $\n",
    "\n",
    "$g=9,81 \\frac{m}{s^2} \\  $\n",
    "\n",
    "$\\mu\\ =0,4  $\n",
    "\n",
    ":::{dropdown} Lösung\n",
    "$m_1=m_3* \\frac{25}{100} \\ *e^(-0,4*  \\pi\\   )= 7,21kg$\n",
    "\n",
    "$m_2=m_3* \\frac{75}{100} \\ *e^(-0,4*  \\pi\\   )= 21,35kg$\n",
    ":::"
   ]
  }
 ],
 "metadata": {
  "kernelspec": {
   "display_name": "Python 3 (ipykernel)",
   "language": "python",
   "name": "python3"
  },
  "language_info": {
   "codemirror_mode": {
    "name": "ipython",
    "version": 3
   },
   "file_extension": ".py",
   "mimetype": "text/x-python",
   "name": "python",
   "nbconvert_exporter": "python",
   "pygments_lexer": "ipython3",
   "version": "3.10.4"
  }
 },
 "nbformat": 4,
 "nbformat_minor": 5
}
