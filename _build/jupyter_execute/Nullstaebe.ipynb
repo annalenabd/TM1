{
 "cells": [
  {
   "cell_type": "markdown",
   "id": "d3a8de60-4716-4251-b7ca-a006117f36eb",
   "metadata": {
    "user_expressions": []
   },
   "source": [
    "# Nullstäbe\n",
    "\n",
    ":::{admonition} Hinweis\n",
    ":class: note\n",
    "Nullstäbe halten andere Stäbe in der Position und tragen selbst keine Last.\n",
    ":::\n",
    "\n",
    "## Regeln zum Erkennen von Nullstäben\n",
    "\n",
    ":::{card}\n",
    "Regel 1\n",
    "^^^\n",
    "Unbelasteter Knoten mit 2 Stäben &rarr; Beide Stäbe Nullstäbe.\n",
    "```{image} ../TM1/images/null1.png\n",
    ":width: 350px\n",
    "```\n",
    ":::\n",
    "\n",
    ":::{card}\n",
    "Regel 2\n",
    "^^^\n",
    "Knoten mit 2 Stäben, die Last geht in die Richtung des einen Stabes &rarr; Der andere ist ein Nullstab.\n",
    "```{image} ../TM1/images/null2.png\n",
    ":width: 430px\n",
    "```\n",
    ":::\n",
    "\n",
    ":::{card}\n",
    "Regel 3\n",
    "^^^\n",
    "Unbelasteter Knoten mit 3 Stäben, zwei davon gehen in dieselbe Richtung &rarr; Der dritte ist ein Nullstab.\n",
    "```{image} ../TM1/images/null3.png\n",
    ":width: 350px\n",
    "```\n",
    ":::\n",
    "\n",
    "Erkannte Nullstäbe denkt man weg und wendet für den Rest wieder die\n",
    "Regeln an, bis man alle Nullstäbe hat.\n",
    "\n",
    ":::{admonition} Wichtig!\n",
    ":class: caution\n",
    "Es reicht, wenn ein Stab an **einem** Ende als Nullstab erkannt wird.\n",
    ":::\n",
    "\n",
    ":::{admonition} Alle Nullstäbe erkannt?\n",
    ":class: seealso\n",
    "Erkannte Nullstäbe denkt man weg und wendet für den Rest wieder die\n",
    "Regeln an, bis man alle Nullstäbe hat.\n",
    ":::"
   ]
  },
  {
   "cell_type": "markdown",
   "id": "564a112b-8d08-438d-a0a7-b321ea9ad39a",
   "metadata": {
    "user_expressions": []
   },
   "source": [
    "## Erklärvideo"
   ]
  },
  {
   "cell_type": "code",
   "execution_count": null,
   "id": "017174ca-b22b-4123-8254-dbf388c58ccb",
   "metadata": {},
   "outputs": [],
   "source": []
  }
 ],
 "metadata": {
  "kernelspec": {
   "display_name": "Python 3 (ipykernel)",
   "language": "python",
   "name": "python3"
  },
  "language_info": {
   "codemirror_mode": {
    "name": "ipython",
    "version": 3
   },
   "file_extension": ".py",
   "mimetype": "text/x-python",
   "name": "python",
   "nbconvert_exporter": "python",
   "pygments_lexer": "ipython3",
   "version": "3.10.4"
  }
 },
 "nbformat": 4,
 "nbformat_minor": 5
}