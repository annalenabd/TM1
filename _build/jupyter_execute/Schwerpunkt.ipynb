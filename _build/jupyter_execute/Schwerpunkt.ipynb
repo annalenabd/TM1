{
 "cells": [
  {
   "cell_type": "markdown",
   "id": "f58405f2-1406-40aa-a249-138515466e6a",
   "metadata": {
    "user_expressions": []
   },
   "source": [
    "# Schwerpunkt in x-Richtung bestimmen\n",
    "\n",
    "## Kochrezept\n",
    "\n",
    "1. Fläche in mehrere einfach zu berechnenden Formen aufteilen\n",
    "(Rechtecke, Dreiecke, Kreise)\n",
    "\n",
    "2. Schwerpunkt in x-Richtung der einzelnen Flächen bestimmen\n",
    "\n",
    "    ::::{tab-set}\n",
    "    :::{tab-item} Rechteck\n",
    "    \\\n",
    "    $\\frac{1}{2} \\bullet Länge\\ in\\ x-Richtung$\n",
    "    :::\n",
    "    :::{tab-item} Kreis\n",
    "    \\\n",
    "    $\\ \\frac{1}{2} \\bullet d$\n",
    "    :::\n",
    "    :::{tab-item} Dreieck\n",
    "    \\\n",
    "    $\\frac{1}{3}*Länge\\ in\\ x - Richtung$\n",
    "    :::\n",
    "    ::::\n",
    "\n",
    "    :::{admonition} Wichtig!\n",
    "    :class: caution\n",
    "    Die Schwerpunkte in einem gemeinsamen Koordinatensystem\n",
    "    bestimmen!\n",
    "    :::\n",
    "\n",
    "3. Flächen der Formen bestimmen. \\\n",
    "Hierbei können “ausgeschnittene“\n",
    "Flächen negativ angenommen werden.\n",
    "\n",
    "4. In folgende Formel einsetzen:\n",
    "$x_{S} = \\frac{\\Sigma x_{i} \\bullet A_{i}}{\\Sigma A_{i}}$\n",
    "\n",
    "    Wobei $x_{i}$ die Positionen der Schwerpunkte und $A_{i}$ die Flächen sind.\n",
    "\n"
   ]
  },
  {
   "cell_type": "code",
   "execution_count": null,
   "id": "85341a15-6cb5-4ba7-871a-df4f3fe7e9a5",
   "metadata": {},
   "outputs": [],
   "source": []
  }
 ],
 "metadata": {
  "kernelspec": {
   "display_name": "Python 3 (ipykernel)",
   "language": "python",
   "name": "python3"
  },
  "language_info": {
   "codemirror_mode": {
    "name": "ipython",
    "version": 3
   },
   "file_extension": ".py",
   "mimetype": "text/x-python",
   "name": "python",
   "nbconvert_exporter": "python",
   "pygments_lexer": "ipython3",
   "version": "3.10.4"
  }
 },
 "nbformat": 4,
 "nbformat_minor": 5
}