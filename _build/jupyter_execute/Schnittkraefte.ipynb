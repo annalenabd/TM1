{
 "cells": [
  {
   "cell_type": "markdown",
   "id": "63a0b4aa-5e28-44de-8618-58ca07a152f5",
   "metadata": {},
   "source": [
    "# Schnittkräfte\n",
    "\n",
    "## Kochrezept\n",
    "\n",
    "```{image} ../TM1/images/schnitt1.png\n",
    ":width: 450px\n",
    "```\n",
    "\n",
    "1.  Berechnung der Aufflagerkräfte\n",
    "\n",
    "```{image} ../TM1/images/schnitt2.png\n",
    ":width: 500px\n",
    "```\n",
    "\n",
    "2.  Einführung eines Koordinatensystems\n",
    "\n",
    "    - **x** in Längsrichtung\n",
    "\n",
    "    - **y** in Durchbiegungsrichtung nach unten\n",
    "\n",
    "    - **z** mit rechter-Hand-Regel ergänzen\n",
    "\n",
    "    ```{image} ../TM1/images/schnitt3.png\n",
    "    :width: 100px\n",
    "    ```\n",
    "\n",
    "3.  Balken im Punkt x aufschneiden\n",
    "\n",
    "    :::{admonition} Hinweis\n",
    "    :class: note\n",
    "    Schließen der Systemgrenze ins Bekannte (nicht nochmal durch den     Balken, sondern z.B durch bekannte Lagerkräfte)\n",
    "    :::\n",
    "\n",
    "4.  An der Schnittstelle die Schnittgrößen N(x), Q(x) und M(x) entsprechend dem gewählten Koordinatensystem einzeichnen:\n",
    "    :::{admonition} Wichtig!\n",
    "    :class: caution\n",
    "    Die Normalkraft zeigt immer aus der Fläche        heraus.\n",
    "    :::\n",
    "    \n",
    "    - Am positiven Schnittufer in positiver Koordinatenrichtung\n",
    "\n",
    "    - Am negativen Schnittufer in negativer Koordinatenrichtung\n",
    "\n",
    "    ```{image} ../TM1/images/schnitt4.png\n",
    "    ```\n",
    "\n",
    "\n",
    "\n",
    "5.  Aufstellen von Kraft- und Momentengleichgewichten und Lösen zur Berechnung von N(x), Q(x) und M(x)\n"
   ]
  },
  {
   "cell_type": "markdown",
   "id": "a3da3694-5c85-4410-8f3a-1d08234c1f34",
   "metadata": {},
   "source": [
    "## Erklärvideo"
   ]
  }
 ],
 "metadata": {
  "kernelspec": {
   "display_name": "Python 3 (ipykernel)",
   "language": "python",
   "name": "python3"
  },
  "language_info": {
   "codemirror_mode": {
    "name": "ipython",
    "version": 3
   },
   "file_extension": ".py",
   "mimetype": "text/x-python",
   "name": "python",
   "nbconvert_exporter": "python",
   "pygments_lexer": "ipython3",
   "version": "3.10.4"
  }
 },
 "nbformat": 4,
 "nbformat_minor": 5
}