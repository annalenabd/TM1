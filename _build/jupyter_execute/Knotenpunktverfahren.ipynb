{
 "cells": [
  {
   "cell_type": "markdown",
   "id": "6be15fef-901c-4250-b602-e66493f4cfd0",
   "metadata": {
    "user_expressions": []
   },
   "source": [
    "# Knotenpunktverfahren\n",
    "\n",
    "## Kochrezept\n",
    "\n",
    "1. Knoten (I, II...) und Stäbe (1, 2...) fortlaufend nummerieren. \n",
    "\n",
    "2. Prüfung auf statische Bestimmtheit. \n",
    "\n",
    "3. Auflagerkräfte bestimmen\n",
    "\n",
    "4. Nullstäbe markieren\n",
    "\n",
    "5. Freikörperdiagramm des ersten Knotens erstellen, wobei alle unbekannten Stabkräfte als Zugkräfte angenommen werden. \n",
    "\n",
    "6. Kräftegleichgewichte für diesen Knoten aufstellen und Gleichungen lösen, um die Stabkräfte zu erhalten. Alle Komponenten, die nach rechts oder oben wirken, erhalten ein positives Vorzeichen. \n",
    "\n",
    "7. Eine Tabelle mit den Ergebnissen mit Kennzeichnung von Zug- (+) oder Druckstäben (-) erstellen."
   ]
  },
  {
   "cell_type": "markdown",
   "id": "31090d58-381f-4b37-b971-31f3270292ce",
   "metadata": {
    "user_expressions": []
   },
   "source": [
    "## Erklärvideo"
   ]
  },
  {
   "cell_type": "code",
   "execution_count": null,
   "id": "a0bb10f8-c33d-4f68-b6a6-d86c6af35278",
   "metadata": {},
   "outputs": [],
   "source": []
  }
 ],
 "metadata": {
  "kernelspec": {
   "display_name": "Python 3 (ipykernel)",
   "language": "python",
   "name": "python3"
  },
  "language_info": {
   "codemirror_mode": {
    "name": "ipython",
    "version": 3
   },
   "file_extension": ".py",
   "mimetype": "text/x-python",
   "name": "python",
   "nbconvert_exporter": "python",
   "pygments_lexer": "ipython3",
   "version": "3.10.4"
  }
 },
 "nbformat": 4,
 "nbformat_minor": 5
}