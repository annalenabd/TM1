{
 "cells": [
  {
   "cell_type": "markdown",
   "id": "50d7fac3-fc87-445d-84c9-00b9da316dbd",
   "metadata": {
    "user_expressions": []
   },
   "source": [
    "# Aufgabe 1\n",
    "\n",
    ":::{admonition} Aufgabe\n",
    ":class: tip\n",
    "Bestimmen sie ob das Fachwerk statisch bestimmt ist.\n",
    ":::\n",
    "\n",
    "\n",
    "```{image} ../TM1/images/3.1.png\n",
    ":width: 350px\n",
    "```\n",
    "\n",
    ":::{dropdown} Lösung\n",
    "Das Fachwerk ist in sich selbst statisch bestimmt aufgebaut.\n",
    "\n",
    "Das Fachwerk ist statisch bestimmt gelagert.\n",
    "\n",
    "Die Konstruktion ist insgesamt statisch bestimmt.\n",
    "\n",
    ":::"
   ]
  },
  {
   "cell_type": "code",
   "execution_count": null,
   "id": "259c71da-e9ea-4fd5-aab1-16a810f7c67f",
   "metadata": {},
   "outputs": [],
   "source": []
  }
 ],
 "metadata": {
  "kernelspec": {
   "display_name": "Python 3 (ipykernel)",
   "language": "python",
   "name": "python3"
  },
  "language_info": {
   "codemirror_mode": {
    "name": "ipython",
    "version": 3
   },
   "file_extension": ".py",
   "mimetype": "text/x-python",
   "name": "python",
   "nbconvert_exporter": "python",
   "pygments_lexer": "ipython3",
   "version": "3.10.4"
  }
 },
 "nbformat": 4,
 "nbformat_minor": 5
}