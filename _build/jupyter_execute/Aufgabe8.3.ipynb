{
 "cells": [
  {
   "cell_type": "markdown",
   "id": "7e65ae07-50d5-48d2-b753-7ea930393d90",
   "metadata": {
    "jp-MarkdownHeadingCollapsed": true,
    "tags": [],
    "user_expressions": []
   },
   "source": [
    "# Aufgabe 1\n",
    "\n",
    ":::{admonition} Aufgabe\n",
    ":class: tip\n",
    "Beim Tauziehen lehnt sich eine Person nach hinten, um ihre Zugkraft zu vergrößern. Wie groß darf b sein, ohne das die Person wegrutscht?\n",
    ":::\n",
    "```{image} ../TM1/images/8.3.png\n",
    ":width: 350px\n",
    "```\n",
    "\n",
    "$Gegeben: $\n",
    "\n",
    "$G=700N  $\n",
    "\n",
    "$\\mu\\ =0,6  $\n",
    "\n",
    "$h=1,3m$\n",
    "\n",
    ":::{dropdown} Lösung\n",
    "$b=h* \\mu\\ = 0,78m$\n",
    ":::"
   ]
  }
 ],
 "metadata": {
  "kernelspec": {
   "display_name": "Python 3 (ipykernel)",
   "language": "python",
   "name": "python3"
  },
  "language_info": {
   "codemirror_mode": {
    "name": "ipython",
    "version": 3
   },
   "file_extension": ".py",
   "mimetype": "text/x-python",
   "name": "python",
   "nbconvert_exporter": "python",
   "pygments_lexer": "ipython3",
   "version": "3.10.4"
  }
 },
 "nbformat": 4,
 "nbformat_minor": 5
}