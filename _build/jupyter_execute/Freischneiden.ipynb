{
 "cells": [
  {
   "cell_type": "markdown",
   "id": "8e06996b-6e07-4592-8f11-8ec9d6c6ca40",
   "metadata": {
    "tags": [],
    "user_expressions": []
   },
   "source": [
    "# Freischneiden\n",
    "\n",
    "## Kochrezept\n",
    "\n",
    "```{image} ../TM1/images/freischneiden1.png\n",
    ":width: 300px\n",
    "```\n",
    "\n",
    "1.  Eine geschlossene Systemgrenze um das zu untersuchende Bauteil/System zeichnen.\n",
    "\n",
    "```{image} ../TM1/images/freischneiden2.png\n",
    ":width: 300px\n",
    "```\n",
    "\n",
    "2.  Das ausgeschnittene Teil **ohne** seine Umgebung zeichnen.\n",
    "\n",
    "```{image} ../TM1/images/freischneiden3.png\n",
    ":width: 250px\n",
    "```\n",
    "\n",
    "3.  Alle möglichen Kräfte und Momente einzeichnen, die wirken:\n",
    "\n",
    "    - Alle Kräfte und Momente aus der Aufgabenstellung übernehmen\n",
    "    \n",
    "        ```{image} ../TM1/images/freischneiden4.png\n",
    "        ```\n",
    "\n",
    "    - Wo die Systemgrenze \"Material durchschneidet\": Einzeichnen der\n",
    "        Kräfte und Momente, die aus der Umgebung auf das System\n",
    "        einwirken könnten.\n",
    "        \n",
    "\n",
    "        :::{admonition} Wichtig!\n",
    "        :class: caution\n",
    "        Die auftretenden Auflagerkräfte sind abhängig von der Art des Lagers!\n",
    "        :::\n",
    "\n",
    "        ```{image} ../TM1/images/freischneiden5.png\n",
    "        ```\n",
    "\n",
    "\n",
    "\n",
    "4.  Kraft- und Momentengleichgewichte aufstellen (die Summe muss 0 sein) und auflösen.\n",
    "\n",
    ":::{admonition} Wichtig!\n",
    ":class: caution\n",
    "Alle Kräfte und Momente müssen sich im Gleichgewicht befinden.\n",
    ":::\n",
    "\n",
    ":::{admonition} Hinweis\n",
    ":class: note\n",
    "Denkweise: Wie wirkt die Umgebung auf das Bauteil?\n",
    ":::"
   ]
  },
  {
   "cell_type": "markdown",
   "id": "0a18a146-3f7d-493e-b23f-a4fab87076af",
   "metadata": {
    "user_expressions": []
   },
   "source": [
    "## Erklärungsvideo"
   ]
  }
 ],
 "metadata": {
  "kernelspec": {
   "display_name": "Python 3 (ipykernel)",
   "language": "python",
   "name": "python3"
  },
  "language_info": {
   "codemirror_mode": {
    "name": "ipython",
    "version": 3
   },
   "file_extension": ".py",
   "mimetype": "text/x-python",
   "name": "python",
   "nbconvert_exporter": "python",
   "pygments_lexer": "ipython3",
   "version": "3.10.4"
  }
 },
 "nbformat": 4,
 "nbformat_minor": 5
}