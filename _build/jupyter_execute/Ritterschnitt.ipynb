{
 "cells": [
  {
   "cell_type": "markdown",
   "id": "5fa5483f-a351-4385-bc18-1c2630beb027",
   "metadata": {
    "user_expressions": []
   },
   "source": [
    "# Ritterschnitt:\n",
    "\n",
    "## Kochrezept\n",
    "\n",
    ":::{admonition} Hinweis\n",
    ":class: note\n",
    "Wenn nur bestimmte Stabkräfte benötigt wird, ist der Rittersche Schnitt schneller als das Knotenpunktverfahren.\n",
    ":::\n",
    "\n",
    "1. Bestimmung der Auflagerkräfte\n",
    "\n",
    "2. Schnitt durch maximal drei Stäbe (drei unbekannte Kräfte) und die Systemgrenze um die bekannten Kräfte schließen. \n",
    "```{image} ../TM1/images/ritter1.png\n",
    "```\n",
    "\n",
    "3. Zeichnung des ausgeschnittenen Teils. \n",
    "Die nicht geschnittenen Stäbe sind \"unsichtbar\". Es ist wie ein Block, aus dem nur die Kräfte herausragen, die berechnet werden sollen. \n",
    "\n",
    "```{image} ../TM1/images/ritter2.png\n",
    ":width: 350px\n",
    "```\n",
    "\n",
    "4. Kraft- und Momentengleichgewichte aufstellen und lösen\n"
   ]
  },
  {
   "cell_type": "markdown",
   "id": "590f6ecf-d40e-4571-9517-ff4da106b2ea",
   "metadata": {
    "user_expressions": []
   },
   "source": [
    "## Erklärvideo"
   ]
  },
  {
   "cell_type": "code",
   "execution_count": null,
   "id": "1bf48a7f-48b9-41bb-8851-908e155de602",
   "metadata": {},
   "outputs": [],
   "source": []
  }
 ],
 "metadata": {
  "kernelspec": {
   "display_name": "Python 3 (ipykernel)",
   "language": "python",
   "name": "python3"
  },
  "language_info": {
   "codemirror_mode": {
    "name": "ipython",
    "version": 3
   },
   "file_extension": ".py",
   "mimetype": "text/x-python",
   "name": "python",
   "nbconvert_exporter": "python",
   "pygments_lexer": "ipython3",
   "version": "3.10.4"
  }
 },
 "nbformat": 4,
 "nbformat_minor": 5
}