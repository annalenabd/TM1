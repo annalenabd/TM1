{
 "cells": [
  {
   "cell_type": "markdown",
   "id": "31275170-31ac-4539-a59a-ae3bb679d2a6",
   "metadata": {
    "user_expressions": []
   },
   "source": [
    "# Grafische Lösung eines Kräftegleichgewichts mit 3 Kräften\n",
    "\n",
    "## Kochrezept\n",
    "\n",
    "1.  Wirklinien im Lageplan einzeichnen:\n",
    "\n",
    "    -   Für die Gewichtskraft: unendlich lange Linie durch den Schwerpunkt\n",
    "\n",
    "    -   Für die folgenden \"Befestigungen\" sind die Wirklinien klar:\n",
    "\n",
    "        ::::{tab-set}\n",
    "        :::{tab-item} Seil\n",
    "        In Richtung des Seils (\"im Seil\")\n",
    "        :::\n",
    "        :::{tab-item} Stab mit zwei Gelenken\n",
    "        In Richtung des Stabes (durch die Gelenke)\n",
    "        :::\n",
    "        :::{tab-item} Reibungsfreier Kontakt\n",
    "        senkrecht zur Tangente der \"Berührzone\" (=Normale)\n",
    "        :::\n",
    "        ::::\n",
    "\n",
    "    -   Bei den folgenden Befestigungen muss die Wirklinie durch die\n",
    "    Befestigungspunkte verlaufen, ist aber in der Richtung frei:\n",
    "    \n",
    "\n",
    "\n",
    "        -   Gelenk, “Festlager”\n",
    "   \n",
    "        -   Kontaktpunkt mit Reibung\n",
    "    \n",
    "\n",
    "    Zuerst werden die bekannten Wirklinien gezeichnet, die dritte Wirklinie\n",
    "muss dann durch ihren Schnittpunkt gehen.\n",
    "\n",
    "\n",
    "\n",
    "2.  Erstellung des Käfteplans:\n",
    "\n",
    "    -   Bekannte (gegebene) Kräfte maßstabsgetreu einzeichnen\n",
    "\n",
    "    -   Die Wirklinien der beiden unbekannten Kräfte parallelverschieben; an\n",
    "    jeweils Anfang und Ende der bekannten Kraft anfügen\n",
    "\n",
    "    -   Dadurch entsteht ein Dreieck mit hintereinandergestzene Pfeilen\n",
    "\n",
    "3.  Bestimmung der unbekannten Kräfte durch Messung der Längen der Kraftpfeile und Umrechnung entsprechend dem Maßstab."
   ]
  },
  {
   "cell_type": "markdown",
   "id": "bdced179-5768-407a-9f4c-f95838277596",
   "metadata": {
    "user_expressions": []
   },
   "source": [
    "## Erklärung"
   ]
  },
  {
   "cell_type": "code",
   "execution_count": null,
   "id": "55ee109a-78fd-4d25-94e7-4ec24c0ebe25",
   "metadata": {},
   "outputs": [],
   "source": []
  }
 ],
 "metadata": {
  "kernelspec": {
   "display_name": "Python 3 (ipykernel)",
   "language": "python",
   "name": "python3"
  },
  "language_info": {
   "codemirror_mode": {
    "name": "ipython",
    "version": 3
   },
   "file_extension": ".py",
   "mimetype": "text/x-python",
   "name": "python",
   "nbconvert_exporter": "python",
   "pygments_lexer": "ipython3",
   "version": "3.10.4"
  }
 },
 "nbformat": 4,
 "nbformat_minor": 5
}