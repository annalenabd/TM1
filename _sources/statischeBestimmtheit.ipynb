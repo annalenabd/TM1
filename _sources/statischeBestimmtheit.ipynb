{
 "cells": [
  {
   "cell_type": "markdown",
   "id": "90151c4f-2d0b-4575-9b8d-f4bd60a8e901",
   "metadata": {},
   "source": [
    "# Statische Bestimmtheit\n",
    "\n",
    "## Prüfen ob das Fachwerk in sich statisch bestimmt ist.\n",
    "\n",
    "1.  Dreieck einzeichnen\n",
    "\n",
    "2.  Weitere Fachwerke, bestehend aus zwei Stäben, einzeichnen.\n",
    "\n",
    " ```{image} ../TM1/images/bestimmt.png\n",
    ":width: 400px\n",
    "```\n",
    " \n",
    "## Prüfen ob das Fachwerk statisch bestimmt gelagert ist.\n",
    "\n",
    " Damit ein Fachwerk statisch bestimmt gelagert ist müssen 3\n",
    " Freiheitsgrade eliminiert werden.\n",
    "\n",
    " -   Ein Festlager eliminiert 2 FHGs\n",
    "\n",
    " -   Ein Loslager eliminiert 1 FHG\n",
    " \n",
    ":::{admonition} Wichtig!\n",
    ":class: caution\n",
    "Die Wirklininien von drei einwertigen Befestigungen dürfen\n",
    " sich nicht alle in einem Punkt schneiden oder parallel sein.\n",
    ":::"
   ]
  },
  {
   "cell_type": "markdown",
   "id": "e8b13276-9bfb-445a-a6a6-628d23e51091",
   "metadata": {
    "user_expressions": []
   },
   "source": [
    "## Erklärvideo"
   ]
  },
  {
   "cell_type": "code",
   "execution_count": null,
   "id": "4372966b-568b-4484-8d60-04d9d87e5479",
   "metadata": {},
   "outputs": [],
   "source": []
  }
 ],
 "metadata": {
  "kernelspec": {
   "display_name": "Python 3 (ipykernel)",
   "language": "python",
   "name": "python3"
  },
  "language_info": {
   "codemirror_mode": {
    "name": "ipython",
    "version": 3
   },
   "file_extension": ".py",
   "mimetype": "text/x-python",
   "name": "python",
   "nbconvert_exporter": "python",
   "pygments_lexer": "ipython3",
   "version": "3.10.4"
  }
 },
 "nbformat": 4,
 "nbformat_minor": 5
}
