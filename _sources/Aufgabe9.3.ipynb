{
 "cells": [
  {
   "cell_type": "markdown",
   "id": "d98fc015-fe2c-4592-a6c6-d33169587832",
   "metadata": {
    "tags": [],
    "user_expressions": []
   },
   "source": [
    "# Aufgabe 1\n",
    "\n",
    ":::{admonition} Aufgabe\n",
    ":class: tip\n",
    "Mithilfe eines Flaschenzugs soll ein Paket angehoben werden. Leider klemmt die obere Rolle. Berechnen Sie die nötige Kraft F um das Paket zu heben.\n",
    ":::\n",
    "\n",
    "```{image} ../TM1/images/9.3.png\n",
    ":width: 350px\n",
    "```\n",
    "\n",
    "$Gegeben: $\n",
    "\n",
    "$m=50kg  $\n",
    "\n",
    "$g=9,81 \\frac{m}{s^2} \\  $\n",
    "\n",
    "$\\mu\\ =0,2  $\n",
    "\n",
    ":::{dropdown} Lösung\n",
    "$ F= \\frac{m*g}{2} \\ *e^(0,2* \\pi\\  )=459,71N $\n",
    ":::"
   ]
  },
  {
   "cell_type": "code",
   "execution_count": null,
   "id": "1152402f-dda9-40ea-8901-7fc23a1f097a",
   "metadata": {},
   "outputs": [],
   "source": []
  }
 ],
 "metadata": {
  "kernelspec": {
   "display_name": "Python 3 (ipykernel)",
   "language": "python",
   "name": "python3"
  },
  "language_info": {
   "codemirror_mode": {
    "name": "ipython",
    "version": 3
   },
   "file_extension": ".py",
   "mimetype": "text/x-python",
   "name": "python",
   "nbconvert_exporter": "python",
   "pygments_lexer": "ipython3",
   "version": "3.10.4"
  }
 },
 "nbformat": 4,
 "nbformat_minor": 5
}
