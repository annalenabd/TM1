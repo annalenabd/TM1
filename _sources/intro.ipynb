{
 "cells": [
  {
   "cell_type": "markdown",
   "id": "d1bc245e-42d4-4a96-8dbd-a92a28bbfa7a",
   "metadata": {
    "user_expressions": []
   },
   "source": [
    "# Technische Mechanik 1\n",
    "\n",
    "Dies ist ein Übungsbuch für das Modul Technische Mechanik 1 an der Hochschule Bonn-Rhein-Sieg."
   ]
  },
  {
   "cell_type": "code",
   "execution_count": null,
   "id": "cb6a5295-025f-43e3-85ab-2a881350147a",
   "metadata": {},
   "outputs": [],
   "source": []
  }
 ],
 "metadata": {
  "kernelspec": {
   "display_name": "Python 3 (ipykernel)",
   "language": "python",
   "name": "python3"
  },
  "language_info": {
   "codemirror_mode": {
    "name": "ipython",
    "version": 3
   },
   "file_extension": ".py",
   "mimetype": "text/x-python",
   "name": "python",
   "nbconvert_exporter": "python",
   "pygments_lexer": "ipython3",
   "version": "3.10.4"
  }
 },
 "nbformat": 4,
 "nbformat_minor": 5
}
