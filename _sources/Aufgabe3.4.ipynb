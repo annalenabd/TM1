{
 "cells": [
  {
   "cell_type": "markdown",
   "id": "400be0fe-4223-4b6c-b9ce-1eb8e782295d",
   "metadata": {
    "user_expressions": []
   },
   "source": [
    "# Aufgabe 2\n",
    "\n",
    ":::{admonition} Aufgabe\n",
    ":class: tip\n",
    "Bestimmen sie ob das Fachwerk statisch bestimmt ist.\n",
    ":::\n",
    "\n",
    "```{image} ../TM1/images/3.4.png\n",
    ":width: 350px\n",
    "```\n",
    "\n",
    ":::{dropdown} Lösung\n",
    "Das Fachwerk hat einen oder mehrere Stäbe zu viel.\n",
    "\n",
    "Lagerung führt zu Klemmen/Montageproblemen.\n",
    "\n",
    "Die Lagerung erlaubt noch Bewegung.\n",
    "\n",
    "Die Konstruktion ist insgesamt nicht statisch bestimmt.\n",
    "\n",
    ":::"
   ]
  },
  {
   "cell_type": "code",
   "execution_count": null,
   "id": "60a4ac9d-acbc-4f6b-9fcf-40512809527b",
   "metadata": {},
   "outputs": [],
   "source": []
  }
 ],
 "metadata": {
  "kernelspec": {
   "display_name": "Python 3 (ipykernel)",
   "language": "python",
   "name": "python3"
  },
  "language_info": {
   "codemirror_mode": {
    "name": "ipython",
    "version": 3
   },
   "file_extension": ".py",
   "mimetype": "text/x-python",
   "name": "python",
   "nbconvert_exporter": "python",
   "pygments_lexer": "ipython3",
   "version": "3.10.4"
  }
 },
 "nbformat": 4,
 "nbformat_minor": 5
}
