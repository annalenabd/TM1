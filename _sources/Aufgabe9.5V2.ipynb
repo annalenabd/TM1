{
 "cells": [
  {
   "cell_type": "markdown",
   "id": "41ef2550-556b-4d2b-9b9f-37cd98f748a5",
   "metadata": {
    "tags": [],
    "user_expressions": []
   },
   "source": [
    "# Aufgabe 3\n",
    "\n",
    ":::{admonition} Aufgabe\n",
    ":class: tip\n",
    "Eine Plattform soll an 2 Balken aufgehängt werden und eine Kiste tragen. Berechnen Sie, wie oft die Seile mindestens um die Balken gewickelt werden müssen.\n",
    ":::\n",
    "\n",
    "```{image} ../TM1/images/9.5V2.png\n",
    ":width: 350px\n",
    "```\n",
    "\n",
    "$Gegeben: $\n",
    "\n",
    "$m_1=1kg  $\n",
    "\n",
    "$m_2=100kg  $\n",
    "\n",
    "$g=9,81 \\frac{m}{s^2} \\  $\n",
    "\n",
    "$\\mu\\ =0,4  $\n",
    "\n",
    ":::{dropdown} Lösung\n",
    "```{image} ../TM1/images/9.5V2L.png\n",
    ":width: 550px\n",
    "```\n",
    ":::"
   ]
  },
  {
   "cell_type": "markdown",
   "id": "5089296d-42be-4d3a-8da9-bf0bef12babf",
   "metadata": {},
   "source": []
  }
 ],
 "metadata": {
  "kernelspec": {
   "display_name": "Python 3 (ipykernel)",
   "language": "python",
   "name": "python3"
  },
  "language_info": {
   "codemirror_mode": {
    "name": "ipython",
    "version": 3
   },
   "file_extension": ".py",
   "mimetype": "text/x-python",
   "name": "python",
   "nbconvert_exporter": "python",
   "pygments_lexer": "ipython3",
   "version": "3.10.4"
  }
 },
 "nbformat": 4,
 "nbformat_minor": 5
}
